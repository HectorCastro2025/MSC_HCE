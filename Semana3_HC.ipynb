{
  "nbformat": 4,
  "nbformat_minor": 0,
  "metadata": {
    "colab": {
      "provenance": []
    },
    "kernelspec": {
      "name": "python3",
      "display_name": "Python 3"
    },
    "language_info": {
      "name": "python"
    }
  },
  "cells": [
    {
      "cell_type": "markdown",
      "source": [
        "# MSC005-1-PROGRAMACIÓN AVANZADA (1S2025)\n",
        "# TAREA SEMANA 3 : CLASES\n",
        "\n",
        "31 Marzo 2025\n"
      ],
      "metadata": {
        "id": "CruSlc2j5KXo"
      }
    },
    {
      "cell_type": "code",
      "source": [
        "from modulo import Punto2D\n",
        "#Se define el punto A\n",
        "A = Punto2D(5,5)\n",
        "print(f\"la coordenada x es : {A.x}\")\n",
        "print(f\"la coordenada y es : {A.y}\")\n",
        "print(f\"la coordenada (x,y) es : {A}\")\n",
        "\n",
        "\n"
      ],
      "metadata": {
        "colab": {
          "base_uri": "https://localhost:8080/"
        },
        "id": "IQ9cRsXaA8ON",
        "outputId": "df885a11-3d72-49b4-f653-99612868d3e2"
      },
      "execution_count": 9,
      "outputs": [
        {
          "output_type": "stream",
          "name": "stdout",
          "text": [
            "la coordenada x es : 5\n",
            "la coordenada y es : 5\n",
            "la coordenada (x,y) es : (5,5)\n"
          ]
        }
      ]
    },
    {
      "cell_type": "markdown",
      "source": [],
      "metadata": {
        "id": "4X5pIKwEh8eo"
      }
    },
    {
      "cell_type": "code",
      "source": [],
      "metadata": {
        "id": "aqPk3-XPiMTF"
      },
      "execution_count": null,
      "outputs": []
    },
    {
      "cell_type": "code",
      "source": [
        "\n",
        "#Se define e punto B y se suma dos coordenadas A+B\n",
        "B = Punto2D(2,2)\n",
        "C = A + B\n",
        "print(f\"la suma entre coordenadas es : {C}\")\n",
        "\n",
        "\n"
      ],
      "metadata": {
        "colab": {
          "base_uri": "https://localhost:8080/"
        },
        "outputId": "cd494ab0-817e-42cb-ec17-725f3234270a",
        "id": "tCh4eYAfiod0"
      },
      "execution_count": 10,
      "outputs": [
        {
          "output_type": "stream",
          "name": "stdout",
          "text": [
            "la suma entre coordenadas es : (7,7)\n"
          ]
        }
      ]
    },
    {
      "cell_type": "code",
      "source": [
        "# Multiplica por un escalar y lo entrega en D\n",
        "D = A(4)\n",
        "print(f\"la multiplicación por el escalar es : {D}\")\n"
      ],
      "metadata": {
        "colab": {
          "base_uri": "https://localhost:8080/"
        },
        "outputId": "f0081cea-e318-4a3d-8729-caea84ec3b31",
        "id": "njtiX4PviVrc"
      },
      "execution_count": 11,
      "outputs": [
        {
          "output_type": "stream",
          "name": "stdout",
          "text": [
            "la multiplicación por el escalar es : (20,20)\n"
          ]
        }
      ]
    },
    {
      "cell_type": "code",
      "source": [
        "#Resta de coordenadas\n",
        "E = A - B\n",
        "print(f\"la resta es: {E}\")"
      ],
      "metadata": {
        "colab": {
          "base_uri": "https://localhost:8080/"
        },
        "id": "2q4-tqbRi2Uc",
        "outputId": "76de634e-5bb8-4cc1-b605-83f98705b796"
      },
      "execution_count": 13,
      "outputs": [
        {
          "output_type": "stream",
          "name": "stdout",
          "text": [
            "la resta es: (3,3)\n"
          ]
        }
      ]
    },
    {
      "cell_type": "code",
      "source": [
        "E.grafica()\n",
        "distancia = A.distancia(B)\n",
        "print(f\"Distancia entre A y B: {distancia}\")\n",
        "\n",
        "print(f\"la distancia al origen usando abs es: {abs(A)}\")\n"
      ],
      "metadata": {
        "colab": {
          "base_uri": "https://localhost:8080/",
          "height": 601
        },
        "id": "0uyF-G8-jGUQ",
        "outputId": "dba7de62-3d1e-4491-f71f-18c52122f196"
      },
      "execution_count": 14,
      "outputs": [
        {
          "output_type": "display_data",
          "data": {
            "text/plain": [
              "<Figure size 600x600 with 1 Axes>"
            ],
            "image/png": "[encoded data removed]"
          },
          "metadata": {}
        },
        {
          "output_type": "stream",
          "name": "stdout",
          "text": [
            "Distancia entre A y B: 4.242640687119285\n",
            "la distancia al origen usando abs es: 7.0710678118654755\n"
          ]
        }
      ]
    }
  ]
}